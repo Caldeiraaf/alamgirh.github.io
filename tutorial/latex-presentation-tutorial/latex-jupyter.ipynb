{
 "cells": [
  {
   "cell_type": "markdown",
   "metadata": {},
   "source": [
    "# $\\LaTeX$ শেখা \n",
    "গণিত ও গাণিতিক বিজ্ঞানের শিক্ষার্থীদের জন্য $\\LaTeX$ একটি অপরিহার্য টুলস। গণিত হচ্ছে একধরণের ভাষা। এই ভাষা কে সুন্দর করে লেখার উপায় হচ্ছে $\\LaTeX$ ব্যবহার করে লিখা। বিশেষত গাণিতিক সমীকরণ লেখার জন্য $\\LaTeX$ একটি চমৎকার উপায়। $\\LaTeX$ দিয়ে আমরা বিভিন্ন ডকুমেন্ট প্রস্তুত করতে পারি। যেমন CV, প্রজেক্ট, থিসিস, গবেষণা প্রবন্ধ ইত্যাদি। তাই গাণিতিক বিজ্ঞানের সকল শিক্ষার্থীদের $\\LaTeX$ শেখা উচিত। এই শেখার প্রক্রিয়াটি শুরু হতে পারে প্রথমবর্ষ থেকেই।\n",
    "\n",
    "## কিভাবে শুরু করা যায়?\n",
    "\n",
    "<p> কম্পিউটারে একটা $\\LaTeX$ সফ্টওয়ার ইনস্টল করে নিতে হবে। যেমন <a href='http://www.xm1math.net/texmaker/'>Texmaker</a>, <a href='http://kile.sourceforge.net/'> Kile</a>  ইত্যাদি । এছাড়া অনলাইনে $\\LaTeX$ ব্যবহারের জন্য <a href='https://www.sharelatex.com/'> sharelatex </a> এ একাউন্ট ওপেন করতে পারেন। </p>\n",
    "\n",
    "<p> $\\LaTeX$ ব্যবহার করে আপনি কি প্রস্তুত করে চান? প্রথমে আপনার CV প্রস্তুত করতে পারেন। এর জন্য আপনি একটি CV Template সংগ্রহ করতে পারেন। ইন্টারনেটে হাজার হাজার Template রয়েছে। সেখান থেকে আপনার পছন্দের একটি খুঁজে বের করুন। এছাড়া আপনি যদি <a href='https://www.sharelatex.com/'> sharelatex </a> ব্যবহার করেন সেখানেও রয়েছে অসংখ্য <a href='https://www.sharelatex.com/templates/cv-or-resume'> CV Template</a>. <a href='https://www.sharelatex.com/'> sharelatex </a> এ আপনার পছন্দের <a href='https://www.sharelatex.com/templates/cv-or-resume'> CV Template</a> থেকে তৈরি করে ফেলুন আপনার CV. CV প্রস্তুতের জন্য যে .tex ফাইল আপনি ব্যবহার করেছেন সেটি আপনার কম্পিউটারে সেভ করে রাখুন। এখন আপনার কম্পিউটারের ইনস্টল করা $\\LaTeX$ সফটওয়ার ব্যবহার করে আপনার CV এডিট করা শিখুন। হ্যাঁ, আপনিও এখন একজন $\\LaTeX$ ব্যবহারকারি!!! </p>\n",
    "\n",
    "<p> $\\LaTeX$ ব্যবহারের গুরুত্ব পূর্ণ দিক হচ্ছে ডকুমেন্ট প্রস্তুত করা। যেখানে ছবি, টেবিল ও গাণিতিক সমীকরণ থাকবে। এর জন্য আবারো <a href='https://www.sharelatex.com/'> sharelatex </a> ব্যবহার করতে পারেন। <a href='https://www.sharelatex.com/'> sharelatex </a> এ একটি নতুন প্রজেক্ট তৈরি করুন । যেমন প্রজেক্টটির নাম হতে পারে Quadratic Equations. এর মধ্যে আপনি নিচের লেখাটি লিখতে পারেন: </p>"
   ]
  },
  {
   "cell_type": "markdown",
   "metadata": {},
   "source": [
    "When $a \\ne 0$, quadratic equation $ax^2 + bx + c = 0$ has two roots and they are\n",
    "$x = {-b \\pm \\sqrt{b^2-4ac} \\over 2a}.$ \n",
    "\n",
    "$$ \\begin{array}{rcl}\n",
    "y & = & a x^{2}+bx+c\\\\\n",
    "  & = & a\\left(x^{2}+2\\times\\frac{b}{2a}x+\\frac{c}{a}\\right)\\\\\n",
    "  & = & a\\left(x+\\frac{b}{2a}\\right)^2 - \\frac{b^2}{4a} + c\n",
    "\\end{array}$$\n",
    "\n",
    "Vertex of the parabola, $y = f(x)$ is $\\left(-\\frac{b}{2a}, c - \\frac{b^2}{4a}\\right)$."
   ]
  },
  {
   "cell_type": "markdown",
   "metadata": {},
   "source": [
    "লেখাটিকে আপনার .tex ফাইলে নিচের মত করে লিখতে হবে:\n",
    "```latex\n",
    "When $a \\ne 0$, quadratic equation $ax^2 + bx + c = 0$ has two roots and they are\n",
    "$x = {-b \\pm \\sqrt{b^2-4ac} \\over 2a}.$ \n",
    "$$ \\begin{array}{rcl}\n",
    "y & = & a x^{2}+bx+c\\\\\n",
    "  & = & a\\left(x^{2}+2\\times\\frac{b}{2a}x+\\frac{c}{a}\\right)\\\\\n",
    "  & = & a\\left(x+\\frac{b}{2a}\\right)^2 - \\frac{b^2}{4a} + c\n",
    "\\end{array}$$ \n",
    "Vertex of the parabola, $y = f(x)$ is $\\left(-\\frac{b}{2a}, c - \\frac{b^2}{4a}\\right)$.\n",
    "```\n",
    "<a href='http://mathurl.com/'>mathURL</a> ব্যবহার করে গাণিতিক যেকোন লেখা বা সমীকরণ লিখতে পারেন। এখন আপনি যদি নিচের মতো করে একটি টেবিল প্রস্তুত করতে চান:\n",
    "\n",
    " | $d = b^2-4ac$     | comment about roots         |\n",
    " |-------------------|-----------------------------|\n",
    " | $d>0$             | roots are real and distinct |\n",
    " | $d = 0$           | roots are real and same     |\n",
    " | $d<0$             | roots are complex           |\n",
    "\n",
    "তাহলে আপনার .tex ফাইলে নিচের মত করে লিখতে হবে:\n",
    "```LaTeX\n",
    "\\begin{center}\n",
    "\\begin{tabular}{|l|l|}\n",
    "\\hline\n",
    " $d = b^2 - 4ac$ & comment about roots \\\\ \n",
    " \\hline\n",
    " $d>0$ & roots are real and distinct \\\\  \n",
    " \\hline\n",
    " $d = 0$ & roots are real and same \\\\\n",
    " \\hline\n",
    " $d<0$ & roots are complex \\\\\n",
    "\\hline\n",
    "\\end{tabular}\n",
    "\\end{center}\n",
    "```\n",
    "এখন আপনার আগ্রহ তৈরি হতে পারে আপনার ডকুমেন্টে একটি ছবি সংযুক্ত করবেন। যেমন quadraticplots.png ফাইল আপনি সংযুক্ত করতে চান। \n",
    "<figure>\n",
    "  <img src=\"figure/quadraticplots.png\" alt=\"LaTex: Quadratic Functions\" width=\"50%\">\n",
    "</figure> \n",
    "\n",
    "তাহলে আপনার .tex ফাইলে নিচের মত করে লিখতে পারেন।\n",
    "```LaTeX\n",
    "\\begin{figure}[h!]\n",
    "\\centering\n",
    "\\includegraphics[scale=.5]{quadraticplots.png}\n",
    "\\caption{Quadratic Functions}\n",
    "\\label{fig:quadratic}\n",
    "\\end{figure}\n",
    "```\n",
    "<p> ইতিমধ্যে আপনি গাণিতিক সমীকরণ, টেবিল তৈরি ও ছবি সংযুক্ত করা শিখে ফেলেছেন! এরপর ধীরে ধীরে আপনার মনে হাজারো প্রশ্ন তৈরি হবে। কিভাবে সমীকরণের নাম্বার লিখতে হয়, কিভাবে ডিফারেন্টিয়াল সমীকরণ লিখতে হয়, একাদিক ছবি থাকলে কিভাবে সংযুক্ত করতে হবে, কিভাবে টেবিলের সারি ও কলাম সংখ্যা বাড়াতে হবে কিংবা কমাতে হবে। এরকম হাজারো প্রশ্নের সমাধান দিয়ে দিবে google!</p>\n",
    "\n",
    "<p> আপনি যদি শিক্ষার্থী হন তাহলে $\\LaTeX$ এ লিখে ফেলুন আপনার এসাইনমেন্ট। আর যদি শিক্ষক বা অধ্যাপক হন তাহলে $\\LaTeX$ ব্যবহার করে পরীক্ষার প্রশ্ন কিংবা লেকচার নোট বানিয়ে ফেলুন। </p> \n",
    "\n",
    "<p> এখন আপনি $\\LaTeX$ ব্যবহার করে প্রজেক্ট, থিসিস বা জার্নাল পেপার লিখার জন্য প্রস্তুত হয়ে গেলেন। যদি আপনার বিশ্ববিদ্যালয়ে নির্ধারিত কোনো Template না থাকে তাহলে <a href='https://www.sharelatex.com/'> sharelatex </a> এ অসংখ্য <a href='https://www.sharelatex.com/templates/thesis'>Thesis Template</a> রয়েছে, সেখান থেকে আপনার পছন্দের <a href='https://www.sharelatex.com/templates/thesis'>Template</a> টি বাছাই করে তৈরি করে ফেলুন আপনার থিসিস। হতে পারে সেটি এমআইটি, হারবার্ড, প্রিন্সটন কিংবা অক্সফোর্ডের থিসিস টেমপ্লেট। আর জার্নালে পেপার সাবমিট এর জন্য প্রত্যেক জার্নালের রয়েছে নিজস্ব Template. সেই Template এ লিখে ফেলুন আপনার প্রথম $\\LaTeX$ এ লেখা পেপার। </p>\n",
    "\n",
    "<p> থিসিস বা প্রজেক্ট কিংবা পেপার লিখা শেষ । এরপর যদি আপনার গবেষণা প্রেজেন্ট করতে চান তাহলে $\\LaTeX$ ব্যবহার করে তৈরি করে ফেলুন আপনার প্রেজেন্টেশন ফাইল। আবারো <a href='https://www.sharelatex.com/'> sharelatex </a> ব্যবহার করতে পারেন । সেখানে রয়েছে অসংখ্য <a href='https://www.sharelatex.com/templates/presentations'>প্রেজেন্টেশন Template</a>. </p>\n",
    "\n",
    "<p> এছাড়া <a href='https://github.com/'> github </a> এ একাউন্ট খুলতে পারেন। <a href='https://github.com/'> github </a>  এ আপনি অসংখ্য থিসিস বা প্রেজেন্টেশন Template খুঁজে পেতে পারেন। </p>\n",
    "\n",
    "<p> সর্বশেষ, আপনার লেখার অরিজিনালিটি বজায় রাখুন। আপনার লেখা আপনার মতো করে লিখুন । আরেক জনের লেখা হুবহু কপি পেস্ট করা থেকে বিরত থাকুন। লেখায় প্লাজিরিজম চেক করুন। কপিরাইট আইন মেনে চলুন । ধন্যবাদ। </p>"
   ]
  },
  {
   "cell_type": "markdown",
   "metadata": {},
   "source": [
    "<br>\n",
    "### ডাউনলোড লিংক\n",
    "এই টিউটোরিয়ালে ব্যবহৃত .tex ফাইল ও .pdf ডাউনলোড লিংক:\n",
    "- [quadratic.tex](quadratic.tex)\n",
    "- [quadratic.pdf](quadratic.pdf)\n",
    "<br>\n",
    "\n",
    "### আরো কিছু তথ্য\n",
    "- আমি এই লেখাটি <a href='http://jupyter.org/'> Jupyter Notebook</a> এ লিখেছি। এতে <a href='https://github.com/adam-p/markdown-here/wiki/Markdown-Cheatsheet'> Markdown </a> ব্যবহার করেছি। \n",
    "- $\\LaTeX$ ও Markdown শেখার একটি <a href='http://nbviewer.jupyter.org/github/twistedhardware/mltutorial/blob/master/notebooks/jupyter/2.%20Markdown%20%26%20LaTeX.ipynb'> [লিংক]</a>\n",
    "- যদি LaTeX এর পাশাপাশি Jupyter Notebook এ আগ্রহী হন তাহলে এই <a href='http://www.nature.com/news/ipython-interactive-demo-7.21492?article=1.16261'>[interactive example]</a> লিংকে আপনার প্রথম Jupyter Notebook ব্যবহার করে দেখতে পারেন। আপনিও এখন একজন Jupyter Notebook ব্যবহার করি!!!\n",
    "<img src=\"https://raw.githubusercontent.com/jupyter/nature-demo/master/images/jupyter-logo.png\" width=\"250px\" style=\"margin: 20px auto;\">\n",
    "<br>"
   ]
  }
 ],
 "metadata": {
  "kernelspec": {
   "display_name": "Python 2",
   "language": "python",
   "name": "python2"
  },
  "language_info": {
   "codemirror_mode": {
    "name": "ipython",
    "version": 2
   },
   "file_extension": ".py",
   "mimetype": "text/x-python",
   "name": "python",
   "nbconvert_exporter": "python",
   "pygments_lexer": "ipython2",
   "version": "2.7.12"
  }
 },
 "nbformat": 4,
 "nbformat_minor": 1
}
